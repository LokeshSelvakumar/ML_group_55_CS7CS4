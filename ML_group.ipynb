{
  "nbformat": 4,
  "nbformat_minor": 0,
  "metadata": {
    "colab": {
      "name": "ML_group.ipynb",
      "provenance": []
    },
    "kernelspec": {
      "name": "python3",
      "display_name": "Python 3"
    },
    "language_info": {
      "name": "python"
    }
  },
  "cells": [
    {
      "cell_type": "code",
      "metadata": {
        "colab": {
          "base_uri": "https://localhost:8080/"
        },
        "id": "JyE2GGOD02op",
        "outputId": "cd27066b-4ab0-41f7-97d7-662643f32888"
      },
      "source": [
        "pip install pytrends\n"
      ],
      "execution_count": null,
      "outputs": [
        {
          "output_type": "stream",
          "name": "stdout",
          "text": [
            "Collecting pytrends\n",
            "  Downloading pytrends-4.7.3-py3-none-any.whl (14 kB)\n",
            "Requirement already satisfied: lxml in /usr/local/lib/python3.7/dist-packages (from pytrends) (4.2.6)\n",
            "Requirement already satisfied: pandas>=0.25 in /usr/local/lib/python3.7/dist-packages (from pytrends) (1.1.5)\n",
            "Requirement already satisfied: requests in /usr/local/lib/python3.7/dist-packages (from pytrends) (2.23.0)\n",
            "Requirement already satisfied: pytz>=2017.2 in /usr/local/lib/python3.7/dist-packages (from pandas>=0.25->pytrends) (2018.9)\n",
            "Requirement already satisfied: python-dateutil>=2.7.3 in /usr/local/lib/python3.7/dist-packages (from pandas>=0.25->pytrends) (2.8.2)\n",
            "Requirement already satisfied: numpy>=1.15.4 in /usr/local/lib/python3.7/dist-packages (from pandas>=0.25->pytrends) (1.19.5)\n",
            "Requirement already satisfied: six>=1.5 in /usr/local/lib/python3.7/dist-packages (from python-dateutil>=2.7.3->pandas>=0.25->pytrends) (1.15.0)\n",
            "Requirement already satisfied: urllib3!=1.25.0,!=1.25.1,<1.26,>=1.21.1 in /usr/local/lib/python3.7/dist-packages (from requests->pytrends) (1.24.3)\n",
            "Requirement already satisfied: chardet<4,>=3.0.2 in /usr/local/lib/python3.7/dist-packages (from requests->pytrends) (3.0.4)\n",
            "Requirement already satisfied: idna<3,>=2.5 in /usr/local/lib/python3.7/dist-packages (from requests->pytrends) (2.10)\n",
            "Requirement already satisfied: certifi>=2017.4.17 in /usr/local/lib/python3.7/dist-packages (from requests->pytrends) (2021.10.8)\n",
            "Installing collected packages: pytrends\n",
            "Successfully installed pytrends-4.7.3\n"
          ]
        }
      ]
    },
    {
      "cell_type": "code",
      "metadata": {
        "id": "e-eLMECDN9dK"
      },
      "source": [
        ""
      ],
      "execution_count": null,
      "outputs": []
    },
    {
      "cell_type": "code",
      "metadata": {
        "colab": {
          "base_uri": "https://localhost:8080/"
        },
        "id": "2-jPd_ZJsPjR",
        "outputId": "4287ce08-2d6c-4993-aa84-175f0859ddfd"
      },
      "source": [
        "import numpy as np\n",
        "import pandas as pd\n",
        "import yfinance as yf\n",
        "\n",
        "\n",
        "# to scrap the the stock data from yahoo finance \n",
        "def scrapStocks(stocklist,duration):\n",
        "  for stock in stocklist:\n",
        "    data_df=yf.download(stock,period=duration)\n",
        "    data_df.to_csv(stock+'.csv')\n",
        "\n",
        "# It will create the files for all the stocks\n",
        "stocksName=['ADANIPOWER.NS','TATAPOWER.NS','RPOWER.NS','JKCEMENT.NS','AMBUJACEM.NS','ACC.NS']\n",
        "scrapStocks(stocksName,\"90d\")"
      ],
      "execution_count": null,
      "outputs": [
        {
          "output_type": "stream",
          "name": "stdout",
          "text": [
            "[*********************100%***********************]  1 of 1 completed\n",
            "[*********************100%***********************]  1 of 1 completed\n",
            "[*********************100%***********************]  1 of 1 completed\n",
            "[*********************100%***********************]  1 of 1 completed\n",
            "[*********************100%***********************]  1 of 1 completed\n",
            "[*********************100%***********************]  1 of 1 completed\n"
          ]
        }
      ]
    },
    {
      "cell_type": "code",
      "metadata": {
        "id": "s0V2wk7BbL9Q"
      },
      "source": [
        "import pandas as pd \n",
        "import numpy as np \n",
        "from sklearn.linear_model import LinearRegression  \n",
        "import matplotlib.pyplot as plt \n",
        "import seaborn as sns\n",
        "sns.set_theme()\n",
        "from sklearn.metrics import mean_squared_error, mean_absolute_error, mean_absolute_percentage_error,r2_score\n",
        "\n",
        "\n",
        "# Reading the consolidated file of stocks\n",
        "df= pd.read_csv('stockData.csv')\n"
      ],
      "execution_count": 387,
      "outputs": []
    },
    {
      "cell_type": "markdown",
      "metadata": {
        "id": "XxmWfHiKhgBN"
      },
      "source": [
        "# New Section"
      ]
    },
    {
      "cell_type": "code",
      "metadata": {
        "id": "X-9oN744uQc1"
      },
      "source": [
        "# droping the null values\n",
        "df=df.dropna()"
      ],
      "execution_count": 388,
      "outputs": []
    },
    {
      "cell_type": "code",
      "metadata": {
        "id": "vwU1ajBarz27"
      },
      "source": [
        "# with six input features\n",
        "data = df[['OPEN','LOW','CLOSE','NO. OF SHARES', 'NO. OF TRADES', 'Tata powers']]\n",
        "output =df[['HIGH']]\n"
      ],
      "execution_count": 389,
      "outputs": []
    },
    {
      "cell_type": "code",
      "metadata": {
        "colab": {
          "base_uri": "https://localhost:8080/"
        },
        "id": "WBvQXIFks-_j",
        "outputId": "133fa74c-3a1f-4c68-d8ad-016af859a6f1"
      },
      "source": [
        "print(len(data))\n",
        "#Splitting between training and test 80,20 split\n",
        "\n",
        "Xtrain= data[: int(0.8*len(data))]\n",
        "Ytrain= output[: int(0.8*len(data))]\n",
        "Xtest=data[int(0.8*len(data)) :]\n",
        "Ytest= output[int(0.8*len(data)):]"
      ],
      "execution_count": 390,
      "outputs": [
        {
          "output_type": "stream",
          "name": "stdout",
          "text": [
            "446\n"
          ]
        }
      ]
    },
    {
      "cell_type": "code",
      "metadata": {
        "colab": {
          "base_uri": "https://localhost:8080/"
        },
        "id": "nokgkIUmtLD_",
        "outputId": "8c41d287-612f-474b-fe5d-50c7468d48be"
      },
      "source": [
        "model = LinearRegression()\n",
        "model.fit(Xtrain,Ytrain)\n",
        "model.coef_\n",
        "\n",
        "\n",
        "# calculating Mean Squared Error \n",
        "print('MSE test %.3f' % (mean_squared_error(model.predict(Xtest), Ytest)))\n",
        "# calculating R-Squared\n",
        "print('R^2  test: %.3f' % (r2_score(model.predict(Xtest), Ytest)))\n",
        "# calculating absolute error\n",
        "print('MAE test: %.3f' % (mean_absolute_error(model.predict(Xtest), Ytest)))\n",
        "# calculating absolute percentage error\n",
        "print('MAE test: %.3f' % (mean_absolute_percentage_error(model.predict(Xtest), Ytest)))\n",
        "\n"
      ],
      "execution_count": 391,
      "outputs": [
        {
          "output_type": "stream",
          "name": "stdout",
          "text": [
            "MSE test 0.952\n",
            "R^2  test: 0.958\n",
            "MAE test: 0.568\n",
            "MAE test: 0.010\n"
          ]
        }
      ]
    },
    {
      "cell_type": "code",
      "metadata": {
        "id": "8sEqFOCKgr8W"
      },
      "source": [
        "# adding new featires with rolling 3point and 5 point average\n",
        "\n",
        "df['MVA3'] = df['OPEN'].shift(1).rolling(window=3).mean() \n",
        "df['MVA5']= df['OPEN'].shift(1).rolling(window=5).mean() "
      ],
      "execution_count": 392,
      "outputs": []
    },
    {
      "cell_type": "code",
      "metadata": {
        "colab": {
          "base_uri": "https://localhost:8080/",
          "height": 363
        },
        "id": "6xkpWcfvgcX4",
        "outputId": "7541b52d-b5c2-49bd-b676-a427ae6299e5"
      },
      "source": [
        "df=df.dropna()\n",
        "df.head(10)\n"
      ],
      "execution_count": 393,
      "outputs": [
        {
          "output_type": "execute_result",
          "data": {
            "text/html": [
              "<div>\n",
              "<style scoped>\n",
              "    .dataframe tbody tr th:only-of-type {\n",
              "        vertical-align: middle;\n",
              "    }\n",
              "\n",
              "    .dataframe tbody tr th {\n",
              "        vertical-align: top;\n",
              "    }\n",
              "\n",
              "    .dataframe thead th {\n",
              "        text-align: right;\n",
              "    }\n",
              "</style>\n",
              "<table border=\"1\" class=\"dataframe\">\n",
              "  <thead>\n",
              "    <tr style=\"text-align: right;\">\n",
              "      <th></th>\n",
              "      <th>DATE</th>\n",
              "      <th>OPEN</th>\n",
              "      <th>HIGH</th>\n",
              "      <th>LOW</th>\n",
              "      <th>CLOSE</th>\n",
              "      <th>NO. OF SHARES</th>\n",
              "      <th>NO. OF TRADES</th>\n",
              "      <th>Tata powers</th>\n",
              "      <th>MVA3</th>\n",
              "      <th>MVA5</th>\n",
              "    </tr>\n",
              "  </thead>\n",
              "  <tbody>\n",
              "    <tr>\n",
              "      <th>5</th>\n",
              "      <td>24-11-2021</td>\n",
              "      <td>106.85</td>\n",
              "      <td>109.75</td>\n",
              "      <td>105.55</td>\n",
              "      <td>105.95</td>\n",
              "      <td>699090.0</td>\n",
              "      <td>7939.0</td>\n",
              "      <td>250.60</td>\n",
              "      <td>106.766667</td>\n",
              "      <td>105.53</td>\n",
              "    </tr>\n",
              "    <tr>\n",
              "      <th>6</th>\n",
              "      <td>23-11-2021</td>\n",
              "      <td>100.60</td>\n",
              "      <td>105.95</td>\n",
              "      <td>98.65</td>\n",
              "      <td>105.95</td>\n",
              "      <td>3987471.0</td>\n",
              "      <td>35113.0</td>\n",
              "      <td>245.90</td>\n",
              "      <td>106.900000</td>\n",
              "      <td>106.09</td>\n",
              "    </tr>\n",
              "    <tr>\n",
              "      <th>7</th>\n",
              "      <td>23-11-2021</td>\n",
              "      <td>100.90</td>\n",
              "      <td>105.90</td>\n",
              "      <td>98.70</td>\n",
              "      <td>105.90</td>\n",
              "      <td>493284.0</td>\n",
              "      <td>4755.0</td>\n",
              "      <td>243.15</td>\n",
              "      <td>104.816667</td>\n",
              "      <td>105.55</td>\n",
              "    </tr>\n",
              "    <tr>\n",
              "      <th>8</th>\n",
              "      <td>22-11-2021</td>\n",
              "      <td>102.90</td>\n",
              "      <td>103.25</td>\n",
              "      <td>98.80</td>\n",
              "      <td>100.95</td>\n",
              "      <td>3723327.0</td>\n",
              "      <td>50374.0</td>\n",
              "      <td>242.00</td>\n",
              "      <td>102.783333</td>\n",
              "      <td>104.44</td>\n",
              "    </tr>\n",
              "    <tr>\n",
              "      <th>9</th>\n",
              "      <td>22-11-2021</td>\n",
              "      <td>102.95</td>\n",
              "      <td>103.30</td>\n",
              "      <td>98.80</td>\n",
              "      <td>100.90</td>\n",
              "      <td>1114257.0</td>\n",
              "      <td>20643.0</td>\n",
              "      <td>242.00</td>\n",
              "      <td>101.466667</td>\n",
              "      <td>103.65</td>\n",
              "    </tr>\n",
              "    <tr>\n",
              "      <th>10</th>\n",
              "      <td>18-11-2021</td>\n",
              "      <td>105.00</td>\n",
              "      <td>105.80</td>\n",
              "      <td>101.40</td>\n",
              "      <td>102.90</td>\n",
              "      <td>3970297.0</td>\n",
              "      <td>43253.0</td>\n",
              "      <td>237.90</td>\n",
              "      <td>102.250000</td>\n",
              "      <td>102.84</td>\n",
              "    </tr>\n",
              "    <tr>\n",
              "      <th>11</th>\n",
              "      <td>18-11-2021</td>\n",
              "      <td>105.00</td>\n",
              "      <td>105.70</td>\n",
              "      <td>101.45</td>\n",
              "      <td>102.95</td>\n",
              "      <td>441624.0</td>\n",
              "      <td>6081.0</td>\n",
              "      <td>241.90</td>\n",
              "      <td>103.616667</td>\n",
              "      <td>102.47</td>\n",
              "    </tr>\n",
              "    <tr>\n",
              "      <th>12</th>\n",
              "      <td>17-11-2021</td>\n",
              "      <td>106.50</td>\n",
              "      <td>107.70</td>\n",
              "      <td>104.00</td>\n",
              "      <td>104.30</td>\n",
              "      <td>4122988.0</td>\n",
              "      <td>38428.0</td>\n",
              "      <td>237.10</td>\n",
              "      <td>104.316667</td>\n",
              "      <td>103.35</td>\n",
              "    </tr>\n",
              "    <tr>\n",
              "      <th>13</th>\n",
              "      <td>17-11-2021</td>\n",
              "      <td>106.65</td>\n",
              "      <td>107.75</td>\n",
              "      <td>104.00</td>\n",
              "      <td>104.25</td>\n",
              "      <td>838121.0</td>\n",
              "      <td>13941.0</td>\n",
              "      <td>233.20</td>\n",
              "      <td>105.500000</td>\n",
              "      <td>104.47</td>\n",
              "    </tr>\n",
              "    <tr>\n",
              "      <th>14</th>\n",
              "      <td>16-11-2021</td>\n",
              "      <td>107.60</td>\n",
              "      <td>109.80</td>\n",
              "      <td>106.25</td>\n",
              "      <td>106.75</td>\n",
              "      <td>2919587.0</td>\n",
              "      <td>26513.0</td>\n",
              "      <td>232.90</td>\n",
              "      <td>106.050000</td>\n",
              "      <td>105.22</td>\n",
              "    </tr>\n",
              "  </tbody>\n",
              "</table>\n",
              "</div>"
            ],
            "text/plain": [
              "          DATE    OPEN    HIGH  ...  Tata powers        MVA3    MVA5\n",
              "5   24-11-2021  106.85  109.75  ...       250.60  106.766667  105.53\n",
              "6   23-11-2021  100.60  105.95  ...       245.90  106.900000  106.09\n",
              "7   23-11-2021  100.90  105.90  ...       243.15  104.816667  105.55\n",
              "8   22-11-2021  102.90  103.25  ...       242.00  102.783333  104.44\n",
              "9   22-11-2021  102.95  103.30  ...       242.00  101.466667  103.65\n",
              "10  18-11-2021  105.00  105.80  ...       237.90  102.250000  102.84\n",
              "11  18-11-2021  105.00  105.70  ...       241.90  103.616667  102.47\n",
              "12  17-11-2021  106.50  107.70  ...       237.10  104.316667  103.35\n",
              "13  17-11-2021  106.65  107.75  ...       233.20  105.500000  104.47\n",
              "14  16-11-2021  107.60  109.80  ...       232.90  106.050000  105.22\n",
              "\n",
              "[10 rows x 10 columns]"
            ]
          },
          "metadata": {},
          "execution_count": 393
        }
      ]
    },
    {
      "cell_type": "code",
      "metadata": {
        "id": "7NQTH0UHh3RJ"
      },
      "source": [
        "data = df[['OPEN','LOW','CLOSE','NO. OF SHARES', 'NO. OF TRADES', 'Tata powers','MVA3','MVA5']]\n",
        "output =df[['HIGH']]"
      ],
      "execution_count": 394,
      "outputs": []
    },
    {
      "cell_type": "code",
      "metadata": {
        "id": "H5Q1bu3mmyKc",
        "colab": {
          "base_uri": "https://localhost:8080/",
          "height": 423
        },
        "outputId": "b7740023-5c56-4c10-e7de-6ed4f6a37324"
      },
      "source": [
        "data"
      ],
      "execution_count": 395,
      "outputs": [
        {
          "output_type": "execute_result",
          "data": {
            "text/html": [
              "<div>\n",
              "<style scoped>\n",
              "    .dataframe tbody tr th:only-of-type {\n",
              "        vertical-align: middle;\n",
              "    }\n",
              "\n",
              "    .dataframe tbody tr th {\n",
              "        vertical-align: top;\n",
              "    }\n",
              "\n",
              "    .dataframe thead th {\n",
              "        text-align: right;\n",
              "    }\n",
              "</style>\n",
              "<table border=\"1\" class=\"dataframe\">\n",
              "  <thead>\n",
              "    <tr style=\"text-align: right;\">\n",
              "      <th></th>\n",
              "      <th>OPEN</th>\n",
              "      <th>LOW</th>\n",
              "      <th>CLOSE</th>\n",
              "      <th>NO. OF SHARES</th>\n",
              "      <th>NO. OF TRADES</th>\n",
              "      <th>Tata powers</th>\n",
              "      <th>MVA3</th>\n",
              "      <th>MVA5</th>\n",
              "    </tr>\n",
              "  </thead>\n",
              "  <tbody>\n",
              "    <tr>\n",
              "      <th>5</th>\n",
              "      <td>106.85</td>\n",
              "      <td>105.55</td>\n",
              "      <td>105.95</td>\n",
              "      <td>699090.0</td>\n",
              "      <td>7939.0</td>\n",
              "      <td>250.60</td>\n",
              "      <td>106.766667</td>\n",
              "      <td>105.53</td>\n",
              "    </tr>\n",
              "    <tr>\n",
              "      <th>6</th>\n",
              "      <td>100.60</td>\n",
              "      <td>98.65</td>\n",
              "      <td>105.95</td>\n",
              "      <td>3987471.0</td>\n",
              "      <td>35113.0</td>\n",
              "      <td>245.90</td>\n",
              "      <td>106.900000</td>\n",
              "      <td>106.09</td>\n",
              "    </tr>\n",
              "    <tr>\n",
              "      <th>7</th>\n",
              "      <td>100.90</td>\n",
              "      <td>98.70</td>\n",
              "      <td>105.90</td>\n",
              "      <td>493284.0</td>\n",
              "      <td>4755.0</td>\n",
              "      <td>243.15</td>\n",
              "      <td>104.816667</td>\n",
              "      <td>105.55</td>\n",
              "    </tr>\n",
              "    <tr>\n",
              "      <th>8</th>\n",
              "      <td>102.90</td>\n",
              "      <td>98.80</td>\n",
              "      <td>100.95</td>\n",
              "      <td>3723327.0</td>\n",
              "      <td>50374.0</td>\n",
              "      <td>242.00</td>\n",
              "      <td>102.783333</td>\n",
              "      <td>104.44</td>\n",
              "    </tr>\n",
              "    <tr>\n",
              "      <th>9</th>\n",
              "      <td>102.95</td>\n",
              "      <td>98.80</td>\n",
              "      <td>100.90</td>\n",
              "      <td>1114257.0</td>\n",
              "      <td>20643.0</td>\n",
              "      <td>242.00</td>\n",
              "      <td>101.466667</td>\n",
              "      <td>103.65</td>\n",
              "    </tr>\n",
              "    <tr>\n",
              "      <th>...</th>\n",
              "      <td>...</td>\n",
              "      <td>...</td>\n",
              "      <td>...</td>\n",
              "      <td>...</td>\n",
              "      <td>...</td>\n",
              "      <td>...</td>\n",
              "      <td>...</td>\n",
              "      <td>...</td>\n",
              "    </tr>\n",
              "    <tr>\n",
              "      <th>441</th>\n",
              "      <td>49.10</td>\n",
              "      <td>49.10</td>\n",
              "      <td>49.80</td>\n",
              "      <td>989589.0</td>\n",
              "      <td>4641.0</td>\n",
              "      <td>55.80</td>\n",
              "      <td>49.966667</td>\n",
              "      <td>50.46</td>\n",
              "    </tr>\n",
              "    <tr>\n",
              "      <th>442</th>\n",
              "      <td>50.70</td>\n",
              "      <td>49.90</td>\n",
              "      <td>50.20</td>\n",
              "      <td>6557749.0</td>\n",
              "      <td>18943.0</td>\n",
              "      <td>55.75</td>\n",
              "      <td>49.666667</td>\n",
              "      <td>50.04</td>\n",
              "    </tr>\n",
              "    <tr>\n",
              "      <th>443</th>\n",
              "      <td>50.85</td>\n",
              "      <td>49.90</td>\n",
              "      <td>50.20</td>\n",
              "      <td>1168670.0</td>\n",
              "      <td>5069.0</td>\n",
              "      <td>57.35</td>\n",
              "      <td>49.900000</td>\n",
              "      <td>49.94</td>\n",
              "    </tr>\n",
              "    <tr>\n",
              "      <th>444</th>\n",
              "      <td>49.80</td>\n",
              "      <td>49.80</td>\n",
              "      <td>50.15</td>\n",
              "      <td>4126797.0</td>\n",
              "      <td>15450.0</td>\n",
              "      <td>57.90</td>\n",
              "      <td>50.216667</td>\n",
              "      <td>50.11</td>\n",
              "    </tr>\n",
              "    <tr>\n",
              "      <th>445</th>\n",
              "      <td>50.10</td>\n",
              "      <td>49.75</td>\n",
              "      <td>50.15</td>\n",
              "      <td>298657.0</td>\n",
              "      <td>1365.0</td>\n",
              "      <td>57.90</td>\n",
              "      <td>50.450000</td>\n",
              "      <td>50.07</td>\n",
              "    </tr>\n",
              "  </tbody>\n",
              "</table>\n",
              "<p>441 rows × 8 columns</p>\n",
              "</div>"
            ],
            "text/plain": [
              "       OPEN     LOW   CLOSE  ...  Tata powers        MVA3    MVA5\n",
              "5    106.85  105.55  105.95  ...       250.60  106.766667  105.53\n",
              "6    100.60   98.65  105.95  ...       245.90  106.900000  106.09\n",
              "7    100.90   98.70  105.90  ...       243.15  104.816667  105.55\n",
              "8    102.90   98.80  100.95  ...       242.00  102.783333  104.44\n",
              "9    102.95   98.80  100.90  ...       242.00  101.466667  103.65\n",
              "..      ...     ...     ...  ...          ...         ...     ...\n",
              "441   49.10   49.10   49.80  ...        55.80   49.966667   50.46\n",
              "442   50.70   49.90   50.20  ...        55.75   49.666667   50.04\n",
              "443   50.85   49.90   50.20  ...        57.35   49.900000   49.94\n",
              "444   49.80   49.80   50.15  ...        57.90   50.216667   50.11\n",
              "445   50.10   49.75   50.15  ...        57.90   50.450000   50.07\n",
              "\n",
              "[441 rows x 8 columns]"
            ]
          },
          "metadata": {},
          "execution_count": 395
        }
      ]
    },
    {
      "cell_type": "code",
      "metadata": {
        "colab": {
          "base_uri": "https://localhost:8080/"
        },
        "id": "ZMf1LopAjhX8",
        "outputId": "383f5b13-c12e-4046-c7d6-0cd5ed9f01f9"
      },
      "source": [
        "data\n",
        "print(len(data))\n",
        "#Splitting between training and test 90,10 split\n",
        "\n",
        "Xtrain= data[: int(0.9*len(data))]\n",
        "Ytrain= output[: int(0.9*len(data))]\n",
        "Xtest=data[int(0.9*len(data)) :]\n",
        "Ytest= output[int(0.9*len(data)):]\n"
      ],
      "execution_count": 396,
      "outputs": [
        {
          "output_type": "stream",
          "name": "stdout",
          "text": [
            "441\n"
          ]
        }
      ]
    },
    {
      "cell_type": "code",
      "metadata": {
        "colab": {
          "base_uri": "https://localhost:8080/"
        },
        "id": "09yj0q3ulT2J",
        "outputId": "79d9dbfb-37c9-4993-d81e-3fba9ec7479e"
      },
      "source": [
        "# training the Linear Regression model\n",
        "\n",
        "model = LinearRegression()\n",
        "model.fit(Xtrain,Ytrain)\n"
      ],
      "execution_count": 397,
      "outputs": [
        {
          "output_type": "execute_result",
          "data": {
            "text/plain": [
              "LinearRegression()"
            ]
          },
          "metadata": {},
          "execution_count": 397
        }
      ]
    },
    {
      "cell_type": "code",
      "metadata": {
        "colab": {
          "base_uri": "https://localhost:8080/"
        },
        "id": "WLZWEGQUnci5",
        "outputId": "e526db75-d9bf-46f9-b6a9-7540c7cdc557"
      },
      "source": [
        "model.coef_"
      ],
      "execution_count": 398,
      "outputs": [
        {
          "output_type": "execute_result",
          "data": {
            "text/plain": [
              "array([[ 5.70396078e-01, -2.45376962e-01,  7.41272934e-01,\n",
              "        -6.65523335e-08,  2.36073990e-05, -2.36305332e-03,\n",
              "        -2.27216425e-02, -3.35344661e-02]])"
            ]
          },
          "metadata": {},
          "execution_count": 398
        }
      ]
    },
    {
      "cell_type": "code",
      "metadata": {
        "colab": {
          "base_uri": "https://localhost:8080/"
        },
        "id": "S2V3HHKUT3fI",
        "outputId": "9c669623-1f17-4210-c185-d2129259c6ef"
      },
      "source": [
        "\n",
        "# Error estimation with new features\n",
        "# calculating Mean Squared Error \n",
        "print('MSE test %.3f' % (mean_squared_error(model.predict(Xtest), Ytest)))\n",
        "# calculating R-Squared\n",
        "print('R^2  test: %.3f' % (r2_score(model.predict(Xtest), Ytest)))\n",
        "# calculating absolute error\n",
        "print('MAE test: %.3f' % (mean_absolute_error(model.predict(Xtest), Ytest)))\n",
        "# calculating absolute percentage error\n",
        "print('MAE test: %.3f' % (mean_absolute_percentage_error(model.predict(Xtest), Ytest)))"
      ],
      "execution_count": 399,
      "outputs": [
        {
          "output_type": "stream",
          "name": "stdout",
          "text": [
            "MSE test 0.753\n",
            "R^2  test: 0.869\n",
            "MAE test: 0.504\n",
            "MAE test: 0.010\n"
          ]
        }
      ]
    },
    {
      "cell_type": "code",
      "metadata": {
        "id": "ioeMsVkS9I7h",
        "colab": {
          "base_uri": "https://localhost:8080/",
          "height": 312
        },
        "outputId": "20903542-a2e9-4e26-b214-bc912cde7dab"
      },
      "source": [
        "#plotting the results\n",
        "\n",
        "date1=df['DATE'][int(0.9*len(df)):]\n",
        "import matplotlib.pyplot as plt\n",
        "plt.plot(figsize=(10,5))\n",
        "plt.plot(date1,model.predict(Xtest))\n",
        "plt.plot(date1,Ytest)\n",
        "plt.legend(['predicted_price','actual_price'])\n",
        "plt.xlabel('Date') \n",
        "plt.ylabel('Stock price')\n",
        "plt.gcf().autofmt_xdate()\n",
        "plt.show"
      ],
      "execution_count": 400,
      "outputs": [
        {
          "output_type": "execute_result",
          "data": {
            "text/plain": [
              "<function matplotlib.pyplot.show>"
            ]
          },
          "metadata": {},
          "execution_count": 400
        },
        {
          "output_type": "display_data",
          "data": {
            "image/png": "[encoded data removed]",
            "text/plain": [
              "<Figure size 432x288 with 1 Axes>"
            ]
          },
          "metadata": {}
        }
      ]
    },
    {
      "cell_type": "code",
      "metadata": {
        "id": "GPnUSVKLeM1a"
      },
      "source": [
        ""
      ],
      "execution_count": null,
      "outputs": []
    },
    {
      "cell_type": "code",
      "metadata": {
        "id": "z3shLXs8dov0",
        "colab": {
          "base_uri": "https://localhost:8080/"
        },
        "outputId": "fd3e6500-d8e1-49a7-ea88-073eca059dcc"
      },
      "source": [
        "# training lasso regression\n",
        "dictParm={}\n",
        "dictIntercept={}\n",
        "mean_error=[]; std_error=[]\n",
        "Ci_range = [ 0.5, 1, 5, 10,100, 500]\n",
        "from sklearn.linear_model import Lasso\n",
        "for Ci in Ci_range:\n",
        "  model3 = Lasso(alpha=1/(2*Ci))\n",
        "  model3.fit(Xtrain,Ytrain)\n",
        "  ypred = model3.predict(Xtest)\n",
        "  print(\"Lasso Regression for C= \"+str(Ci))\n",
        "  print(\"Coefficient =\" +str(model3.coef_))\n",
        "  print(\"Theta0 =\" +str(model3.intercept_))\n",
        "  param=model3.coef_\n",
        "  dictParm[Ci]=param\n",
        "  dictIntercept[Ci]=model3.intercept_"
      ],
      "execution_count": 401,
      "outputs": [
        {
          "output_type": "stream",
          "name": "stdout",
          "text": [
            "Lasso Regression for C= 0.5\n",
            "Coefficient =[ 4.41271139e-01  0.00000000e+00  5.69355917e-01 -1.04063911e-07\n",
            "  3.64231829e-05 -2.10711448e-03  0.00000000e+00  0.00000000e+00]\n",
            "Theta0 =[0.97697133]\n",
            "Lasso Regression for C= 1\n",
            "Coefficient =[ 4.42188514e-01 -0.00000000e+00  5.70925390e-01 -1.01858263e-07\n",
            "  3.56589698e-05 -2.63955054e-03  0.00000000e+00  0.00000000e+00]\n",
            "Theta0 =[0.80104615]\n",
            "Lasso Regression for C= 5\n",
            "Coefficient =[ 5.26005248e-01 -1.57316853e-01  6.63976343e-01 -8.12304904e-08\n",
            "  2.82817742e-05 -2.68436932e-03 -0.00000000e+00 -2.09277205e-02]\n",
            "Theta0 =[0.69295372]\n",
            "Lasso Regression for C= 10\n",
            "Coefficient =[ 5.46568424e-01 -2.00259494e-01  6.98266035e-01 -7.44959823e-08\n",
            "  2.60814829e-05 -2.54208732e-03 -0.00000000e+00 -3.37797259e-02]\n",
            "Theta0 =[0.70593539]\n",
            "Lasso Regression for C= 100\n",
            "Coefficient =[ 5.67872166e-01 -2.40685968e-01  7.36615573e-01 -6.74002913e-08\n",
            "  2.38687485e-05 -2.38260417e-03 -1.97888427e-02 -3.39038331e-02]\n",
            "Theta0 =[0.69738913]\n",
            "Lasso Regression for C= 500\n",
            "Coefficient =[ 5.69837760e-01 -2.44335424e-01  7.40217826e-01 -6.67426583e-08\n",
            "  2.36658114e-05 -2.36760211e-03 -2.20253201e-02 -3.36431584e-02]\n",
            "Theta0 =[0.69614603]\n"
          ]
        },
        {
          "output_type": "stream",
          "name": "stderr",
          "text": [
            "/usr/local/lib/python3.7/dist-packages/sklearn/linear_model/_coordinate_descent.py:648: ConvergenceWarning: Objective did not converge. You might want to increase the number of iterations, check the scale of the features or consider increasing regularisation. Duality gap: 3.715e+02, tolerance: 1.592e+01\n",
            "  coef_, l1_reg, l2_reg, X, y, max_iter, tol, rng, random, positive\n",
            "/usr/local/lib/python3.7/dist-packages/sklearn/linear_model/_coordinate_descent.py:648: ConvergenceWarning: Objective did not converge. You might want to increase the number of iterations, check the scale of the features or consider increasing regularisation. Duality gap: 3.445e+02, tolerance: 1.592e+01\n",
            "  coef_, l1_reg, l2_reg, X, y, max_iter, tol, rng, random, positive\n",
            "/usr/local/lib/python3.7/dist-packages/sklearn/linear_model/_coordinate_descent.py:648: ConvergenceWarning: Objective did not converge. You might want to increase the number of iterations, check the scale of the features or consider increasing regularisation. Duality gap: 3.181e+02, tolerance: 1.592e+01\n",
            "  coef_, l1_reg, l2_reg, X, y, max_iter, tol, rng, random, positive\n",
            "/usr/local/lib/python3.7/dist-packages/sklearn/linear_model/_coordinate_descent.py:648: ConvergenceWarning: Objective did not converge. You might want to increase the number of iterations, check the scale of the features or consider increasing regularisation. Duality gap: 3.156e+02, tolerance: 1.592e+01\n",
            "  coef_, l1_reg, l2_reg, X, y, max_iter, tol, rng, random, positive\n"
          ]
        }
      ]
    },
    {
      "cell_type": "code",
      "metadata": {
        "colab": {
          "base_uri": "https://localhost:8080/"
        },
        "id": "5Lwp8MSLzfKJ",
        "outputId": "812178e0-63bc-4ea1-9ead-2739e51d70de"
      },
      "source": [
        "# selecting the best value from above calculation\n",
        "Ci=70\n",
        "model3 = Lasso(alpha=1/(2*Ci))\n",
        "model3.fit(Xtrain,Ytrain)\n",
        "ypred = model.predict(Xtest)"
      ],
      "execution_count": 402,
      "outputs": [
        {
          "output_type": "stream",
          "name": "stderr",
          "text": [
            "/usr/local/lib/python3.7/dist-packages/sklearn/linear_model/_coordinate_descent.py:648: ConvergenceWarning: Objective did not converge. You might want to increase the number of iterations, check the scale of the features or consider increasing regularisation. Duality gap: 3.195e+02, tolerance: 1.592e+01\n",
            "  coef_, l1_reg, l2_reg, X, y, max_iter, tol, rng, random, positive\n"
          ]
        }
      ]
    },
    {
      "cell_type": "code",
      "metadata": {
        "colab": {
          "base_uri": "https://localhost:8080/"
        },
        "id": "28gdL7Td0153",
        "outputId": "29d91456-7706-42b2-e66b-258ddda0aea5"
      },
      "source": [
        "# calculating Mean Squared Error with new features\n",
        "print('MSE test %.3f' % (mean_squared_error(model3.predict(Xtest), Ytest)))\n",
        "# calculating R-Squared\n",
        "print('R^2  test: %.3f' % (r2_score(model3.predict(Xtest), Ytest)))\n",
        "# calculating absolute error\n",
        "print('MAE test: %.3f' % (mean_absolute_error(model3.predict(Xtest), Ytest)))\n",
        "# calculating absolute percentage error\n",
        "print('MAE test: %.3f' % (mean_absolute_percentage_error(model3.predict(Xtest), Ytest)))"
      ],
      "execution_count": 403,
      "outputs": [
        {
          "output_type": "stream",
          "name": "stdout",
          "text": [
            "MSE test 0.774\n",
            "R^2  test: 0.866\n",
            "MAE test: 0.508\n",
            "MAE test: 0.010\n"
          ]
        }
      ]
    },
    {
      "cell_type": "code",
      "metadata": {
        "colab": {
          "base_uri": "https://localhost:8080/",
          "height": 312
        },
        "id": "HkGH8yEx0fU0",
        "outputId": "1cd9bbde-a228-4c15-c271-bcf2778548f3"
      },
      "source": [
        "import matplotlib.pyplot as plt\n",
        "plt.plot(figsize=(10,5))\n",
        "plt.plot(date1,model3.predict(Xtest))\n",
        "plt.plot(date1,Ytest)\n",
        "plt.legend(['predicted_price','actual_price'])\n",
        "plt.xlabel('Date') \n",
        "plt.ylabel('Stock price')\n",
        "plt.gcf().autofmt_xdate()\n",
        "plt.show"
      ],
      "execution_count": 404,
      "outputs": [
        {
          "output_type": "execute_result",
          "data": {
            "text/plain": [
              "<function matplotlib.pyplot.show>"
            ]
          },
          "metadata": {},
          "execution_count": 404
        },
        {
          "output_type": "display_data",
          "data": {
            "image/png": "[encoded data removed]",
            "text/plain": [
              "<Figure size 432x288 with 1 Axes>"
            ]
          },
          "metadata": {}
        }
      ]
    },
    {
      "cell_type": "code",
      "metadata": {
        "colab": {
          "base_uri": "https://localhost:8080/"
        },
        "id": "_mNrqqOQFh0a",
        "outputId": "99c22447-9ff6-47ea-94bb-755add906894"
      },
      "source": [
        "# training the support vector regression model\n",
        "\n",
        "from sklearn.svm import SVR\n",
        "model2 = SVR(kernel = 'rbf')\n",
        "model2.fit(Xtrain, Ytrain.values.ravel())"
      ],
      "execution_count": 405,
      "outputs": [
        {
          "output_type": "execute_result",
          "data": {
            "text/plain": [
              "SVR()"
            ]
          },
          "metadata": {},
          "execution_count": 405
        }
      ]
    },
    {
      "cell_type": "code",
      "metadata": {
        "colab": {
          "base_uri": "https://localhost:8080/"
        },
        "id": "N8luwIQUxy46",
        "outputId": "38553aea-af99-43ee-bb1f-3bb0f5ebc763"
      },
      "source": [
        "\n",
        "# calculating Mean Squared Error with new features\n",
        "print('MSE test %.3f' % (mean_squared_error(model2.predict(Xtest), Ytest)))\n",
        "# calculating R-Squared\n",
        "print('R^2  test: %.3f' % (r2_score(model2.predict(Xtest), Ytest)))\n",
        "# calculating absolute error\n",
        "print('MAE test: %.3f' % (mean_absolute_error(model2.predict(Xtest), Ytest)))\n",
        "# calculating absolute percentage error\n",
        "print('MAE test: %.3f' % (mean_absolute_percentage_error(model2.predict(Xtest), Ytest)))"
      ],
      "execution_count": 406,
      "outputs": [
        {
          "output_type": "stream",
          "name": "stdout",
          "text": [
            "MSE test 2190.369\n",
            "R^2  test: -8445.814\n",
            "MAE test: 46.740\n",
            "MAE test: 0.466\n"
          ]
        }
      ]
    },
    {
      "cell_type": "code",
      "metadata": {
        "colab": {
          "base_uri": "https://localhost:8080/",
          "height": 339
        },
        "id": "LUaVVoYPLtWB",
        "outputId": "5eda4b34-189a-45db-a077-67d7e4077da3"
      },
      "source": [
        "\n",
        "#predicted_price = pd.DataFrame(predicted_price,index=Ytest.index,columns = ['price']) \n",
        "predicted_price = pd.DataFrame(model2.predict(Xtest),date1,columns = ['price'])\n",
        "predicted_price.plot(figsize=(10,5))  \n",
        "plt.legend(['predicted_price','actual_price'])  \n",
        "plt.ylabel(\"Price\")  \n",
        "plt.show()"
      ],
      "execution_count": 274,
      "outputs": [
        {
          "output_type": "display_data",
          "data": {
            "image/png": "[encoded data removed]",
            "text/plain": [
              "<Figure size 720x360 with 1 Axes>"
            ]
          },
          "metadata": {}
        }
      ]
    },
    {
      "cell_type": "code",
      "metadata": {
        "colab": {
          "base_uri": "https://localhost:8080/"
        },
        "id": "eer0Wb-uN_Jq",
        "outputId": "e3745ab0-2f04-4732-ff58-42d39296d5d6"
      },
      "source": [
        "#SVM is not for regression it for classification\n"
      ],
      "execution_count": null,
      "outputs": [
        {
          "output_type": "stream",
          "name": "stdout",
          "text": [
            "Collecting yfinance\n",
            "  Downloading yfinance-0.1.67-py2.py3-none-any.whl (25 kB)\n",
            "Requirement already satisfied: numpy>=1.15 in /usr/local/lib/python3.7/dist-packages (from yfinance) (1.19.5)\n",
            "Requirement already satisfied: pandas>=0.24 in /usr/local/lib/python3.7/dist-packages (from yfinance) (1.1.5)\n",
            "Requirement already satisfied: requests>=2.20 in /usr/local/lib/python3.7/dist-packages (from yfinance) (2.23.0)\n",
            "Requirement already satisfied: multitasking>=0.0.7 in /usr/local/lib/python3.7/dist-packages (from yfinance) (0.0.10)\n",
            "Collecting lxml>=4.5.1\n",
            "  Downloading lxml-4.6.4-cp37-cp37m-manylinux_2_17_x86_64.manylinux2014_x86_64.manylinux_2_24_x86_64.whl (6.3 MB)\n",
            "\u001b[K     |████████████████████████████████| 6.3 MB 5.8 MB/s \n",
            "\u001b[?25hRequirement already satisfied: python-dateutil>=2.7.3 in /usr/local/lib/python3.7/dist-packages (from pandas>=0.24->yfinance) (2.8.2)\n",
            "Requirement already satisfied: pytz>=2017.2 in /usr/local/lib/python3.7/dist-packages (from pandas>=0.24->yfinance) (2018.9)\n",
            "Requirement already satisfied: six>=1.5 in /usr/local/lib/python3.7/dist-packages (from python-dateutil>=2.7.3->pandas>=0.24->yfinance) (1.15.0)\n",
            "Requirement already satisfied: certifi>=2017.4.17 in /usr/local/lib/python3.7/dist-packages (from requests>=2.20->yfinance) (2021.10.8)\n",
            "Requirement already satisfied: urllib3!=1.25.0,!=1.25.1,<1.26,>=1.21.1 in /usr/local/lib/python3.7/dist-packages (from requests>=2.20->yfinance) (1.24.3)\n",
            "Requirement already satisfied: idna<3,>=2.5 in /usr/local/lib/python3.7/dist-packages (from requests>=2.20->yfinance) (2.10)\n",
            "Requirement already satisfied: chardet<4,>=3.0.2 in /usr/local/lib/python3.7/dist-packages (from requests>=2.20->yfinance) (3.0.4)\n",
            "Installing collected packages: lxml, yfinance\n",
            "  Attempting uninstall: lxml\n",
            "    Found existing installation: lxml 4.2.6\n",
            "    Uninstalling lxml-4.2.6:\n",
            "      Successfully uninstalled lxml-4.2.6\n",
            "Successfully installed lxml-4.6.4 yfinance-0.1.67\n",
            "[*********************100%***********************]  1 of 1 completed\n",
            "                  Open        High  ...   Adj Close     Volume\n",
            "Date                                ...                       \n",
            "2021-11-30  159.990005  165.520004  ...  165.300003  174048100\n",
            "2021-12-01  167.479996  170.300003  ...  164.770004  152052500\n",
            "2021-12-02  158.740005  164.199997  ...  163.759995  136739200\n",
            "2021-12-03  164.020004  164.960007  ...  161.839996  117938300\n",
            "2021-12-06  164.289993  167.879898  ...  167.539993   33973556\n",
            "\n",
            "[5 rows x 6 columns]\n",
            "[*********************100%***********************]  1 of 1 completed\n",
            "                  Open        High  ...   Adj Close    Volume\n",
            "Date                                ...                      \n",
            "2021-11-30  335.320007  337.779999  ...  330.589996  42885600\n",
            "2021-12-01  335.130005  339.279999  ...  330.079987  33337600\n",
            "2021-12-02  330.299988  333.489990  ...  329.489990  30766000\n",
            "2021-12-03  331.989990  332.700012  ...  323.010010  41755900\n",
            "2021-12-06  323.950012  324.809998  ...  322.929993   5860988\n",
            "\n",
            "[5 rows x 6 columns]\n"
          ]
        }
      ]
    },
    {
      "cell_type": "code",
      "metadata": {
        "id": "a1E3sO_nS4Gb"
      },
      "source": [
        "test11"
      ],
      "execution_count": null,
      "outputs": []
    },
    {
      "cell_type": "code",
      "metadata": {
        "id": "X1UTY2HIpmJz"
      },
      "source": [
        "stockprofile = []\n",
        "stocksName=['ADANIPOWER.NS','TATAPOWER.NS','RPOWER.NS','JKCEMENT.NS','AMBUJACEM.NS','ACC.NS']\n",
        "for stock in stocksName:\n",
        "  info=[]\n",
        "  ticker = yf.Ticker(stock)\n",
        "  info.append(stock)\n",
        "  info.append(ticker.info['industry'])\n",
        "  info.append(ticker.info['totalRevenue'])\n",
        "  info.append(ticker.info['volume'])\n",
        "  info.append(ticker.info['sector'])\n",
        "  stockprofile.append(info)\n",
        "df1 = pd.DataFrame(stockprofile, columns = ['Name','industry','totalRevenue','volume','sector'])\n",
        "df1.to_csv('StockInfo.csv')"
      ],
      "execution_count": 356,
      "outputs": []
    },
    {
      "cell_type": "code",
      "metadata": {
        "colab": {
          "base_uri": "https://localhost:8080/",
          "height": 237
        },
        "id": "7rDZdx9Y5vrm",
        "outputId": "d61430cf-7a57-4f20-c5a2-bac60b03b79d"
      },
      "source": [
        "df1"
      ],
      "execution_count": 357,
      "outputs": [
        {
          "output_type": "execute_result",
          "data": {
            "text/html": [
              "<div>\n",
              "<style scoped>\n",
              "    .dataframe tbody tr th:only-of-type {\n",
              "        vertical-align: middle;\n",
              "    }\n",
              "\n",
              "    .dataframe tbody tr th {\n",
              "        vertical-align: top;\n",
              "    }\n",
              "\n",
              "    .dataframe thead th {\n",
              "        text-align: right;\n",
              "    }\n",
              "</style>\n",
              "<table border=\"1\" class=\"dataframe\">\n",
              "  <thead>\n",
              "    <tr style=\"text-align: right;\">\n",
              "      <th></th>\n",
              "      <th>Name</th>\n",
              "      <th>industry</th>\n",
              "      <th>totalRevenue</th>\n",
              "      <th>volume</th>\n",
              "      <th>sector</th>\n",
              "    </tr>\n",
              "  </thead>\n",
              "  <tbody>\n",
              "    <tr>\n",
              "      <th>0</th>\n",
              "      <td>ADANIPOWER.NS</td>\n",
              "      <td>Utilities—Independent Power Producers</td>\n",
              "      <td>250209599488</td>\n",
              "      <td>2364397</td>\n",
              "      <td>Utilities</td>\n",
              "    </tr>\n",
              "    <tr>\n",
              "      <th>1</th>\n",
              "      <td>TATAPOWER.NS</td>\n",
              "      <td>Utilities—Independent Power Producers</td>\n",
              "      <td>378678706176</td>\n",
              "      <td>34376491</td>\n",
              "      <td>Utilities</td>\n",
              "    </tr>\n",
              "    <tr>\n",
              "      <th>2</th>\n",
              "      <td>RPOWER.NS</td>\n",
              "      <td>Utilities—Renewable</td>\n",
              "      <td>74128097280</td>\n",
              "      <td>12553808</td>\n",
              "      <td>Utilities</td>\n",
              "    </tr>\n",
              "    <tr>\n",
              "      <th>3</th>\n",
              "      <td>JKCEMENT.NS</td>\n",
              "      <td>Building Materials</td>\n",
              "      <td>75760254976</td>\n",
              "      <td>67684</td>\n",
              "      <td>Basic Materials</td>\n",
              "    </tr>\n",
              "    <tr>\n",
              "      <th>4</th>\n",
              "      <td>AMBUJACEM.NS</td>\n",
              "      <td>Building Materials</td>\n",
              "      <td>287930515456</td>\n",
              "      <td>1157040</td>\n",
              "      <td>Basic Materials</td>\n",
              "    </tr>\n",
              "    <tr>\n",
              "      <th>5</th>\n",
              "      <td>ACC.NS</td>\n",
              "      <td>Building Materials</td>\n",
              "      <td>160706297856</td>\n",
              "      <td>234940</td>\n",
              "      <td>Basic Materials</td>\n",
              "    </tr>\n",
              "  </tbody>\n",
              "</table>\n",
              "</div>"
            ],
            "text/plain": [
              "            Name  ...           sector\n",
              "0  ADANIPOWER.NS  ...        Utilities\n",
              "1   TATAPOWER.NS  ...        Utilities\n",
              "2      RPOWER.NS  ...        Utilities\n",
              "3    JKCEMENT.NS  ...  Basic Materials\n",
              "4   AMBUJACEM.NS  ...  Basic Materials\n",
              "5         ACC.NS  ...  Basic Materials\n",
              "\n",
              "[6 rows x 5 columns]"
            ]
          },
          "metadata": {},
          "execution_count": 357
        }
      ]
    },
    {
      "cell_type": "code",
      "metadata": {
        "id": "PWr6LSLasiex"
      },
      "source": [
        "df1['industry']=df1['industry'].map({'Utilities—Independent Power Producers':'1', 'Utilities—Renewable':'2', 'Building Materials': '3'})\n",
        "df1['sector']=df1['sector'].map({'Utilities':'1','Basic Materials':'2'})"
      ],
      "execution_count": 358,
      "outputs": []
    },
    {
      "cell_type": "code",
      "metadata": {
        "colab": {
          "base_uri": "https://localhost:8080/",
          "height": 237
        },
        "id": "M_YZssXt5u1P",
        "outputId": "746eac91-4a3c-4aca-f884-461cdb1b016e"
      },
      "source": [
        "df1"
      ],
      "execution_count": 359,
      "outputs": [
        {
          "output_type": "execute_result",
          "data": {
            "text/html": [
              "<div>\n",
              "<style scoped>\n",
              "    .dataframe tbody tr th:only-of-type {\n",
              "        vertical-align: middle;\n",
              "    }\n",
              "\n",
              "    .dataframe tbody tr th {\n",
              "        vertical-align: top;\n",
              "    }\n",
              "\n",
              "    .dataframe thead th {\n",
              "        text-align: right;\n",
              "    }\n",
              "</style>\n",
              "<table border=\"1\" class=\"dataframe\">\n",
              "  <thead>\n",
              "    <tr style=\"text-align: right;\">\n",
              "      <th></th>\n",
              "      <th>Name</th>\n",
              "      <th>industry</th>\n",
              "      <th>totalRevenue</th>\n",
              "      <th>volume</th>\n",
              "      <th>sector</th>\n",
              "    </tr>\n",
              "  </thead>\n",
              "  <tbody>\n",
              "    <tr>\n",
              "      <th>0</th>\n",
              "      <td>ADANIPOWER.NS</td>\n",
              "      <td>1</td>\n",
              "      <td>250209599488</td>\n",
              "      <td>2364397</td>\n",
              "      <td>1</td>\n",
              "    </tr>\n",
              "    <tr>\n",
              "      <th>1</th>\n",
              "      <td>TATAPOWER.NS</td>\n",
              "      <td>1</td>\n",
              "      <td>378678706176</td>\n",
              "      <td>34376491</td>\n",
              "      <td>1</td>\n",
              "    </tr>\n",
              "    <tr>\n",
              "      <th>2</th>\n",
              "      <td>RPOWER.NS</td>\n",
              "      <td>2</td>\n",
              "      <td>74128097280</td>\n",
              "      <td>12553808</td>\n",
              "      <td>1</td>\n",
              "    </tr>\n",
              "    <tr>\n",
              "      <th>3</th>\n",
              "      <td>JKCEMENT.NS</td>\n",
              "      <td>3</td>\n",
              "      <td>75760254976</td>\n",
              "      <td>67684</td>\n",
              "      <td>2</td>\n",
              "    </tr>\n",
              "    <tr>\n",
              "      <th>4</th>\n",
              "      <td>AMBUJACEM.NS</td>\n",
              "      <td>3</td>\n",
              "      <td>287930515456</td>\n",
              "      <td>1157040</td>\n",
              "      <td>2</td>\n",
              "    </tr>\n",
              "    <tr>\n",
              "      <th>5</th>\n",
              "      <td>ACC.NS</td>\n",
              "      <td>3</td>\n",
              "      <td>160706297856</td>\n",
              "      <td>234940</td>\n",
              "      <td>2</td>\n",
              "    </tr>\n",
              "  </tbody>\n",
              "</table>\n",
              "</div>"
            ],
            "text/plain": [
              "            Name industry  totalRevenue    volume sector\n",
              "0  ADANIPOWER.NS        1  250209599488   2364397      1\n",
              "1   TATAPOWER.NS        1  378678706176  34376491      1\n",
              "2      RPOWER.NS        2   74128097280  12553808      1\n",
              "3    JKCEMENT.NS        3   75760254976     67684      2\n",
              "4   AMBUJACEM.NS        3  287930515456   1157040      2\n",
              "5         ACC.NS        3  160706297856    234940      2"
            ]
          },
          "metadata": {},
          "execution_count": 359
        }
      ]
    },
    {
      "cell_type": "code",
      "metadata": {
        "id": "eKCsaZ5L0w-V"
      },
      "source": [
        "from sklearn import svm\n",
        "model4 = svm.SVC()\n",
        "X =df1[['totalRevenue','volume','sector']][1:]\n",
        "y=df1[['industry']][1:]\n",
        "xtest =df1[['totalRevenue','volume','sector']][:1]"
      ],
      "execution_count": 362,
      "outputs": []
    },
    {
      "cell_type": "code",
      "metadata": {
        "colab": {
          "base_uri": "https://localhost:8080/"
        },
        "id": "t6dt56Ic0ziq",
        "outputId": "45b0f0d6-3497-4c94-8ce9-7090513eab5b"
      },
      "source": [
        "model4.fit(X,y.values.ravel()) "
      ],
      "execution_count": 363,
      "outputs": [
        {
          "output_type": "execute_result",
          "data": {
            "text/plain": [
              "SVC()"
            ]
          },
          "metadata": {},
          "execution_count": 363
        }
      ]
    },
    {
      "cell_type": "code",
      "metadata": {
        "colab": {
          "base_uri": "https://localhost:8080/"
        },
        "id": "k7rUiuvNDHne",
        "outputId": "14e46d4f-bc11-4b98-a30c-6710214b8aae"
      },
      "source": [
        "model4.predict(xtest)"
      ],
      "execution_count": 365,
      "outputs": [
        {
          "output_type": "execute_result",
          "data": {
            "text/plain": [
              "array(['3'], dtype=object)"
            ]
          },
          "metadata": {},
          "execution_count": 365
        }
      ]
    }
  ]
}