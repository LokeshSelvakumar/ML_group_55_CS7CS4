{
 "cells": [
  {
   "cell_type": "code",
   "execution_count": null,
   "id": "775748e0",
   "metadata": {},
   "outputs": [],
   "source": [
    "pip install flair"
   ]
  },
  {
   "cell_type": "code",
   "execution_count": 2,
   "id": "59c3a5d5",
   "metadata": {},
   "outputs": [
    {
     "name": "stdout",
     "output_type": "stream",
     "text": [
      "2021-12-06 22:49:39,951 loading file /Users/kalai/.flair/models/sentiment-en-mix-distillbert_4.pt\n"
     ]
    }
   ],
   "source": [
    "import pandas as pd\n",
    "import flair\n",
    "from flair.data import Sentence\n",
    "\n",
    "sentiment = []\n",
    "probability = []\n",
    "\n",
    "sentiment_model = flair.models.TextClassifier.load('en-sentiment')\n",
    "\n",
    "df = pd.read_csv(\"tweets.csv\",header=1, names = ['text','username','link','code','date'])\n",
    "#print(df.head())\n",
    "\n",
    "tweets = df.iloc[ : , 0 ]\n",
    "\n",
    "for tweet in tweets.to_list():\n",
    "    # make prediction\n",
    "    sentence = Sentence(str(tweet))\n",
    "    sentiment_model.predict(sentence)\n",
    "    # extract sentiment prediction\n",
    "    probability.append(sentence.labels[0].score)  # numerical score 0-1\n",
    "    sentiment.append(sentence.labels[0].value)  # 'POSITIVE' or 'NEGATIVE'\n",
    "    \n",
    "\n",
    "df['sentiment'] = sentiment\n",
    "df['probability'] = probability\n",
    "\n",
    "#print(df.head())\n",
    "df.to_csv('sentiment'+'.csv')"
   ]
  },
  {
   "cell_type": "code",
   "execution_count": null,
   "id": "5822d975",
   "metadata": {},
   "outputs": [],
   "source": []
  }
 ],
 "metadata": {
  "kernelspec": {
   "display_name": "Python 3",
   "language": "python",
   "name": "python3"
  },
  "language_info": {
   "codemirror_mode": {
    "name": "ipython",
    "version": 3
   },
   "file_extension": ".py",
   "mimetype": "text/x-python",
   "name": "python",
   "nbconvert_exporter": "python",
   "pygments_lexer": "ipython3",
   "version": "3.8.8"
  }
 },
 "nbformat": 4,
 "nbformat_minor": 5
}
