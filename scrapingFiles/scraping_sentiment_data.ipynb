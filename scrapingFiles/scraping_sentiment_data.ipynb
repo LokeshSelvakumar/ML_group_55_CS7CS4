{
 "cells": [
  {
   "cell_type": "code",
   "execution_count": 2,
   "id": "ba604b28",
   "metadata": {},
   "outputs": [
    {
     "name": "stdout",
     "output_type": "stream",
     "text": [
      "[*********************100%***********************]  1 of 1 completed\n",
      "[*********************100%***********************]  1 of 1 completed\n"
     ]
    }
   ],
   "source": [
    "import numpy as np\n",
    "import pandas as pd\n",
    "import yfinance as yf\n",
    "\n",
    "#scrap data method that scraps the data of the companies list for the duration passed\n",
    "def scrapData(stocklist,duration):\n",
    "    for stock in stocklist:\n",
    "       data_df =yf.download(stock,period=duration)\n",
    "       data_df.to_csv(stock+duration+'.csv')\n",
    "#scraping google stock data for 30 days\n",
    "scrapData([\"GOOGL\"],\"30d\")\n",
    "#scraping tesla stock data for 90 days\n",
    "scrapData([\"TSLA\"],\"90d\")\n",
    "\n",
    "#tesla selected period historical data for sentiment analysis\n",
    "TSLA = yf.Ticker('TSLA')\n",
    "oldTSLA = TSLA.history(start=\"2019-01-01\",  end=\"2019-12-31\")\n",
    "oldTSLA.to_csv(\"stockTSLA.csv\")"
   ]
  }
 ],
 "metadata": {
  "kernelspec": {
   "display_name": "Python 3",
   "language": "python",
   "name": "python3"
  },
  "language_info": {
   "codemirror_mode": {
    "name": "ipython",
    "version": 3
   },
   "file_extension": ".py",
   "mimetype": "text/x-python",
   "name": "python",
   "nbconvert_exporter": "python",
   "pygments_lexer": "ipython3",
   "version": "3.8.8"
  }
 },
 "nbformat": 4,
 "nbformat_minor": 5
}
