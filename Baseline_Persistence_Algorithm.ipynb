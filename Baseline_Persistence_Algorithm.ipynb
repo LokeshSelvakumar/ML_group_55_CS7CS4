{
 "cells": [
  {
   "cell_type": "code",
   "execution_count": 4,
   "id": "70b765c8",
   "metadata": {},
   "outputs": [
    {
     "name": "stderr",
     "output_type": "stream",
     "text": [
      "<ipython-input-4-6795a17b3cd3>:7: FutureWarning: The pandas.datetime class is deprecated and will be removed from pandas in a future version. Import from datetime module instead.\n",
      "  from pandas import datetime\n"
     ]
    },
    {
     "name": "stdout",
     "output_type": "stream",
     "text": [
      "   open_t-1  high_t-1  low_t-1  close_t-1  no_of_shares_t-1  no_of_trades_t-1  \\\n",
      "1    104.05    104.30    101.0     101.25         4336484.0           46805.0   \n",
      "2    103.30    104.35    101.0     101.35         1093913.0           17929.0   \n",
      "3    106.45    107.00    103.6     105.05         3974953.0           33619.0   \n",
      "4    106.85    107.00    103.6     105.05          798161.0           12835.0   \n",
      "5    107.00    109.70    105.4     105.90         6009879.0           45387.0   \n",
      "\n",
      "   tata_powers_t-1  open_t+1  high_t+1  low_t+1  close_t+1  no_of_shares_t+1  \\\n",
      "1           237.55    103.30    104.35   101.00     101.35         1093913.0   \n",
      "2           239.80    106.45    107.00   103.60     105.05         3974953.0   \n",
      "3           240.00    106.85    107.00   103.60     105.05          798161.0   \n",
      "4           224.50    107.00    109.70   105.40     105.90         6009879.0   \n",
      "5           239.90    106.85    109.75   105.55     105.95          699090.0   \n",
      "\n",
      "   no_of_trades_t+1  tata_powers_t+1  \n",
      "1           17929.0            239.8  \n",
      "2           33619.0            240.0  \n",
      "3           12835.0            224.5  \n",
      "4           45387.0            239.9  \n",
      "5            7939.0            250.6  \n",
      "Test MSE: 5.403\n",
      " MAE: 1.734\n",
      " RMSE: 2.324\n",
      "MAPE: 0.024\n"
     ]
    },
    {
     "data": {
      "image/png": "[encoded data removed]",
      "text/plain": [
       "<Figure size 432x288 with 1 Axes>"
      ]
     },
     "metadata": {
      "needs_background": "light"
     },
     "output_type": "display_data"
    }
   ],
   "source": [
    "from matplotlib import pyplot as plt\n",
    "from sklearn.metrics import mean_squared_error\n",
    "from sklearn.metrics import mean_absolute_error\n",
    "from sklearn.metrics import mean_absolute_percentage_error\n",
    "from sklearn.metrics import confusion_matrix\n",
    "from pandas import read_csv\n",
    "from pandas import datetime\n",
    "from pandas import DataFrame\n",
    "from pandas import concat\n",
    "import math\n",
    "import pandas as pd\n",
    "\n",
    "def parser(x):\n",
    "\treturn pd.to_datetime(x)\n",
    "\n",
    "stock_series = read_csv('stockData.csv', header=0, parse_dates=[0], index_col=0, squeeze=True, date_parser=parser)\n",
    "\n",
    "# Create the lagged dataset for prediction\n",
    "stock_values = DataFrame(stock_series.values)\n",
    "stock_dataframe = concat([stock_values.shift(1), stock_values], axis=1)\n",
    "stock_dataframe.columns = ['open_t-1','high_t-1', 'low_t-1', 'close_t-1', 'no_of_shares_t-1', 'no_of_trades_t-1', 'tata_powers_t-1' ,'open_t+1','high_t+1', 'low_t+1', 'close_t+1', 'no_of_shares_t+1', 'no_of_trades_t+1', 'tata_powers_t+1' ]\n",
    "stock_dataframe = stock_dataframe.dropna()\n",
    "print(stock_dataframe.head(5))\n",
    "\n",
    "\n",
    "# split stock price into train and test sets\n",
    "split_X = stock_dataframe.values\n",
    "stock_train_size = int(len(split_X) * 0.66)\n",
    "stock_train, stock_test = split_X[1:stock_train_size], split_X[stock_train_size:]\n",
    "stock_train_X, stock_train_y = stock_train[:,0], stock_train[:,1]\n",
    "stock_test_X, stock_test_y = stock_test[:,0], stock_test[:,1]\n",
    " \n",
    "# persistence model\n",
    "def baseline_persistence(x):\n",
    "\treturn x\n",
    " \n",
    "# walk-forward validation\n",
    "stock_predictions = list()\n",
    "for x in stock_test_X:\n",
    "\tyhat = baseline_persistence(x)\n",
    "\tstock_predictions.append(yhat)\n",
    "stock_mse = mean_squared_error(stock_test_y, stock_predictions)\n",
    "stock_mae = mean_absolute_error(stock_test_y, stock_predictions)\n",
    "stock_mape = mean_absolute_percentage_error(stock_test_y, stock_predictions)\n",
    "stock_rmse = math.sqrt(stock_mse)\n",
    "\n",
    "print('Test MSE: %.3f' % stock_mse ) \n",
    "print(' MAE: %.3f' % stock_mae ) \n",
    "print(' RMSE: %.3f' % stock_rmse) \n",
    "print('MAPE: %.3f' % stock_mape) \n",
    "\n",
    "# plot stock price predictions and expected results\n",
    "plt.plot(stock_train_y)\n",
    "plt.plot([None for i in stock_train_y] + [x for x in stock_test_y])\n",
    "plt.plot([None for i in stock_train_y] + [x for x in stock_predictions])\n",
    "plt.show()"
   ]
  }
 ],
 "metadata": {
  "kernelspec": {
   "display_name": "Python 3",
   "language": "python",
   "name": "python3"
  },
  "language_info": {
   "codemirror_mode": {
    "name": "ipython",
    "version": 3
   },
   "file_extension": ".py",
   "mimetype": "text/x-python",
   "name": "python",
   "nbconvert_exporter": "python",
   "pygments_lexer": "ipython3",
   "version": "3.8.8"
  }
 },
 "nbformat": 4,
 "nbformat_minor": 5
}
